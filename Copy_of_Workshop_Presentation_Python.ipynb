{
  "cells": [
    {
      "cell_type": "code",
      "execution_count": null,
      "id": "d2b7f5a0-2308-4841-9d26-667499c306b0",
      "metadata": {
        "id": "d2b7f5a0-2308-4841-9d26-667499c306b0"
      },
      "outputs": [],
      "source": [
        "import sys"
      ]
    },
    {
      "cell_type": "markdown",
      "source": [],
      "metadata": {
        "id": "rsBxYzH5XKki"
      },
      "id": "rsBxYzH5XKki"
    },
    {
      "cell_type": "markdown",
      "id": "a67cb96d-d96c-45e9-85c0-1929a4208fd5",
      "metadata": {
        "tags": [],
        "id": "a67cb96d-d96c-45e9-85c0-1929a4208fd5"
      },
      "source": [
        "# Python-an overview\n",
        "Items of note\n",
        "- Runtime Checked\n",
        "- Indent based code blocks"
      ]
    },
    {
      "cell_type": "markdown",
      "id": "509e903d-0cf0-40d8-8c51-65a5af85d23c",
      "metadata": {
        "tags": [],
        "id": "509e903d-0cf0-40d8-8c51-65a5af85d23c"
      },
      "source": [
        "## Math\n",
        "- Also know as Arithmetic Operations\n",
        "- Performed with arithmetic operators\n",
        "\n",
        "> - Addition: **x + y**\n",
        "> - Subtraction: **x - y**\n",
        "> - Multiplication: **x * y**\n",
        "> - Division: **x / y**\n",
        "> - Modulus: **x % y**\n",
        "> - Exponents: **x ** y**\n",
        "> - Floor Division: **x // y**\n"
      ]
    },
    {
      "cell_type": "markdown",
      "id": "fd259c0d-3610-4211-a222-f0b06e717b39",
      "metadata": {
        "tags": [],
        "id": "fd259c0d-3610-4211-a222-f0b06e717b39"
      },
      "source": [
        "## Numbers\n",
        "### Integers"
      ]
    },
    {
      "cell_type": "code",
      "execution_count": null,
      "id": "d3677c9c-e944-465a-8025-d55887408736",
      "metadata": {
        "id": "d3677c9c-e944-465a-8025-d55887408736",
        "colab": {
          "base_uri": "https://localhost:8080/"
        },
        "outputId": "f2a71b34-b132-4394-abdc-90fb24edfd1c"
      },
      "outputs": [
        {
          "output_type": "execute_result",
          "data": {
            "text/plain": [
              "sys.int_info(bits_per_digit=30, sizeof_digit=4, default_max_str_digits=4300, str_digits_check_threshold=640)"
            ]
          },
          "metadata": {},
          "execution_count": 2
        }
      ],
      "source": [
        "sys.int_info"
      ]
    },
    {
      "cell_type": "code",
      "execution_count": null,
      "id": "cec6e4d4-a7e0-4b97-808a-5b0fa3f38553",
      "metadata": {
        "id": "cec6e4d4-a7e0-4b97-808a-5b0fa3f38553",
        "colab": {
          "base_uri": "https://localhost:8080/"
        },
        "outputId": "18b823ae-1493-4505-eec9-1ea947947c4b"
      },
      "outputs": [
        {
          "output_type": "stream",
          "name": "stdout",
          "text": [
            "5\n"
          ]
        }
      ],
      "source": [
        "x = 5\n",
        "print(x)"
      ]
    },
    {
      "cell_type": "code",
      "execution_count": null,
      "id": "de68a584-eebb-4088-b5a3-45ae3dde57ab",
      "metadata": {
        "id": "de68a584-eebb-4088-b5a3-45ae3dde57ab",
        "colab": {
          "base_uri": "https://localhost:8080/"
        },
        "outputId": "bb4d0a45-5ec2-4f92-963a-f01c6eda1205"
      },
      "outputs": [
        {
          "output_type": "stream",
          "name": "stdout",
          "text": [
            "x: 9223372036854775807\n",
            "y: -9223372036854775807\n"
          ]
        }
      ],
      "source": [
        "x = sys.maxsize\n",
        "y = -x\n",
        "print(\"x:\", x)\n",
        "print(\"y:\", y)"
      ]
    },
    {
      "cell_type": "markdown",
      "id": "d448bcec-5712-4829-91e3-047e7660efd9",
      "metadata": {
        "tags": [],
        "id": "d448bcec-5712-4829-91e3-047e7660efd9"
      },
      "source": [
        "### Floats"
      ]
    },
    {
      "cell_type": "code",
      "execution_count": null,
      "id": "891fc71f-c6b9-401a-a4ca-716352cfb614",
      "metadata": {
        "id": "891fc71f-c6b9-401a-a4ca-716352cfb614",
        "colab": {
          "base_uri": "https://localhost:8080/"
        },
        "outputId": "3a99a64b-bcac-4c4f-e79e-95102ab26af5"
      },
      "outputs": [
        {
          "output_type": "execute_result",
          "data": {
            "text/plain": [
              "sys.float_info(max=1.7976931348623157e+308, max_exp=1024, max_10_exp=308, min=2.2250738585072014e-308, min_exp=-1021, min_10_exp=-307, dig=15, mant_dig=53, epsilon=2.220446049250313e-16, radix=2, rounds=1)"
            ]
          },
          "metadata": {},
          "execution_count": 5
        }
      ],
      "source": [
        "sys.float_info"
      ]
    },
    {
      "cell_type": "code",
      "source": [
        "import math"
      ],
      "metadata": {
        "id": "2qCp35YOwGVH"
      },
      "id": "2qCp35YOwGVH",
      "execution_count": null,
      "outputs": []
    },
    {
      "cell_type": "code",
      "execution_count": null,
      "id": "eeb78993-c97b-4f3b-9e15-571ccc2c0f6b",
      "metadata": {
        "id": "eeb78993-c97b-4f3b-9e15-571ccc2c0f6b",
        "colab": {
          "base_uri": "https://localhost:8080/"
        },
        "outputId": "06353994-c6af-4202-8d05-e08fa5ce85cf"
      },
      "outputs": [
        {
          "output_type": "execute_result",
          "data": {
            "text/plain": [
              "3.14159365"
            ]
          },
          "metadata": {},
          "execution_count": 8
        }
      ],
      "source": [
        "x = 3.14159365\n",
        "x"
      ]
    },
    {
      "cell_type": "markdown",
      "id": "59849f24-ec9d-4db9-9270-a94b83974e29",
      "metadata": {
        "tags": [],
        "id": "59849f24-ec9d-4db9-9270-a94b83974e29"
      },
      "source": [
        "## Arrays\n",
        "**Documentation:** https://docs.python.org/3/tutorial/datastructures.html \\\n",
        "In python arrays are called lists.\n",
        "\n",
        "**Properties**:\n",
        "> - Ordered\n",
        "> - Mutable\n",
        "> - Type Flexible\n",
        "> - Allow Duplicates"
      ]
    },
    {
      "cell_type": "code",
      "execution_count": null,
      "id": "beeb5ff9-248a-4106-8e84-199e4ee266b0",
      "metadata": {
        "id": "beeb5ff9-248a-4106-8e84-199e4ee266b0",
        "colab": {
          "base_uri": "https://localhost:8080/"
        },
        "outputId": "bd748f34-2da7-4fcf-9253-e8953a21ffed"
      },
      "outputs": [
        {
          "output_type": "stream",
          "name": "stdout",
          "text": [
            "[5, 6, 1, 20, 64, 33, 85, 22, 27, 3]\n"
          ]
        }
      ],
      "source": [
        "of_ints = [5, 6, 1 , 20, 64, 33, 85, 22, 27, 3]\n",
        "print(of_ints)"
      ]
    },
    {
      "cell_type": "code",
      "execution_count": null,
      "id": "b36e87dc-3f7d-4d00-9a98-d7ef024acdd5",
      "metadata": {
        "id": "b36e87dc-3f7d-4d00-9a98-d7ef024acdd5",
        "colab": {
          "base_uri": "https://localhost:8080/"
        },
        "outputId": "74027746-6569-4bfc-8637-4e7c3aaf15a2"
      },
      "outputs": [
        {
          "output_type": "stream",
          "name": "stdout",
          "text": [
            "['hello world', 'this is a sentence.', 'this is how a lot of data can be formatted']\n"
          ]
        }
      ],
      "source": [
        "of_strings = ['hello world', 'this is a sentence.', 'this is how a lot of data can be formatted']\n",
        "print(of_strings)"
      ]
    },
    {
      "cell_type": "code",
      "execution_count": null,
      "id": "7ebc981d-7d33-4d75-bdb3-678da5d4f0fe",
      "metadata": {
        "id": "7ebc981d-7d33-4d75-bdb3-678da5d4f0fe",
        "colab": {
          "base_uri": "https://localhost:8080/"
        },
        "outputId": "9dce405b-a499-4273-98fd-894aea444891"
      },
      "outputs": [
        {
          "output_type": "stream",
          "name": "stdout",
          "text": [
            "[5, 'a', 'you can have multiple types too', (4, 'four')]\n"
          ]
        }
      ],
      "source": [
        "multi_ray = [5, 'a', 'you can have multiple types too', (4, 'four')]\n",
        "print(multi_ray)"
      ]
    },
    {
      "cell_type": "code",
      "execution_count": null,
      "id": "cc70b772-1543-49f4-ab3c-1fcd239e55f9",
      "metadata": {
        "id": "cc70b772-1543-49f4-ab3c-1fcd239e55f9",
        "colab": {
          "base_uri": "https://localhost:8080/"
        },
        "outputId": "ab354a8c-3161-4d95-d64b-8272fc163ab4"
      },
      "outputs": [
        {
          "output_type": "stream",
          "name": "stdout",
          "text": [
            "[[5, 6, 1, 20, 64, 33, 85, 22, 27, 3], ['hello world', 'this is a sentence.', 'this is how a lot of data can be formatted'], [5, 'a', 'you can have multiple types too', (4, 'four')]]\n"
          ]
        }
      ],
      "source": [
        "array_dim = [of_ints, of_strings, multi_ray]\n",
        "print(array_dim)"
      ]
    },
    {
      "cell_type": "markdown",
      "id": "7bbe18a2-be75-43a8-b857-054a85077b20",
      "metadata": {
        "id": "7bbe18a2-be75-43a8-b857-054a85077b20"
      },
      "source": [
        "#### Size and Indexing"
      ]
    },
    {
      "cell_type": "code",
      "execution_count": null,
      "id": "e228409f-94dd-414a-aac3-74ac9ea821cd",
      "metadata": {
        "tags": [],
        "id": "e228409f-94dd-414a-aac3-74ac9ea821cd",
        "colab": {
          "base_uri": "https://localhost:8080/"
        },
        "outputId": "4a1c4662-236a-4000-dd5f-3d682380e216"
      },
      "outputs": [
        {
          "output_type": "stream",
          "name": "stdout",
          "text": [
            "[5, 6, 1, 20, 64, 33, 85, 22, 27, 3]\n",
            "Length:  10\n"
          ]
        }
      ],
      "source": [
        "print(of_ints)\n",
        "print(\"Length: \", len(of_ints)  )"
      ]
    },
    {
      "cell_type": "code",
      "execution_count": null,
      "id": "341954bf-fbf9-49a5-ab76-0f099fae620e",
      "metadata": {
        "id": "341954bf-fbf9-49a5-ab76-0f099fae620e",
        "colab": {
          "base_uri": "https://localhost:8080/"
        },
        "outputId": "f3edee42-fc6c-4895-b8aa-48815fa044ef"
      },
      "outputs": [
        {
          "output_type": "execute_result",
          "data": {
            "text/plain": [
              "27"
            ]
          },
          "metadata": {},
          "execution_count": 14
        }
      ],
      "source": [
        "of_ints[-2]\n"
      ]
    },
    {
      "cell_type": "markdown",
      "id": "d89143e1-75a6-4362-9ea9-12cb0d529029",
      "metadata": {
        "id": "d89143e1-75a6-4362-9ea9-12cb0d529029"
      },
      "source": [
        "#### Slicing\n",
        "Notation:  array[lower_bound : upper_bound : step]"
      ]
    },
    {
      "cell_type": "code",
      "source": [
        "of_ints"
      ],
      "metadata": {
        "id": "oTVhKqJQ6kWx",
        "colab": {
          "base_uri": "https://localhost:8080/"
        },
        "outputId": "c260774a-4a31-4a8a-b6be-6da159bbe4a6"
      },
      "id": "oTVhKqJQ6kWx",
      "execution_count": null,
      "outputs": [
        {
          "output_type": "execute_result",
          "data": {
            "text/plain": [
              "[5, 6, 1, 20, 64, 33, 85, 22, 27, 3]"
            ]
          },
          "metadata": {},
          "execution_count": 15
        }
      ]
    },
    {
      "cell_type": "code",
      "execution_count": null,
      "id": "c260ddbf-41c2-4441-9d12-6c34be51fe60",
      "metadata": {
        "id": "c260ddbf-41c2-4441-9d12-6c34be51fe60",
        "colab": {
          "base_uri": "https://localhost:8080/"
        },
        "outputId": "4f628ac9-7d32-4784-d55a-998234bae34d"
      },
      "outputs": [
        {
          "output_type": "stream",
          "name": "stdout",
          "text": [
            "[3, 27]\n",
            "[5, 6, 1, 20, 64, 33, 85]\n",
            "[20, 64, 33, 85, 22, 27, 3]\n"
          ]
        }
      ],
      "source": [
        "print(of_ints[:7:-1])\n",
        "print(of_ints[:7])\n",
        "print(of_ints[3:])"
      ]
    },
    {
      "cell_type": "markdown",
      "id": "3e8682ba-15c0-4008-b97f-9c07026e7042",
      "metadata": {
        "id": "3e8682ba-15c0-4008-b97f-9c07026e7042"
      },
      "source": [
        "#### Searching"
      ]
    },
    {
      "cell_type": "code",
      "execution_count": null,
      "id": "77c79b4a-30a5-410f-b231-2ed356abc2ab",
      "metadata": {
        "id": "77c79b4a-30a5-410f-b231-2ed356abc2ab",
        "colab": {
          "base_uri": "https://localhost:8080/"
        },
        "outputId": "f87fc057-f498-41aa-bf7a-71ad3266bb73"
      },
      "outputs": [
        {
          "output_type": "stream",
          "name": "stdout",
          "text": [
            "True\n",
            "False\n"
          ]
        }
      ],
      "source": [
        "print( 3 in of_ints)\n",
        "print(44 in of_ints)"
      ]
    },
    {
      "cell_type": "code",
      "source": [
        "of_strings"
      ],
      "metadata": {
        "id": "nlYWIDH4xtqG",
        "colab": {
          "base_uri": "https://localhost:8080/"
        },
        "outputId": "80a53c89-4180-4d97-eed7-a44cfbdb04d8"
      },
      "id": "nlYWIDH4xtqG",
      "execution_count": null,
      "outputs": [
        {
          "output_type": "execute_result",
          "data": {
            "text/plain": [
              "['hello world',\n",
              " 'this is a sentence.',\n",
              " 'this is how a lot of data can be formatted']"
            ]
          },
          "metadata": {},
          "execution_count": 18
        }
      ]
    },
    {
      "cell_type": "code",
      "execution_count": null,
      "id": "858d7a45-18cf-494b-8a1d-ebdceaf0a02c",
      "metadata": {
        "id": "858d7a45-18cf-494b-8a1d-ebdceaf0a02c",
        "colab": {
          "base_uri": "https://localhost:8080/"
        },
        "outputId": "3ca20d2e-ab78-4d73-94a8-f1d827d2bc40"
      },
      "outputs": [
        {
          "output_type": "stream",
          "name": "stdout",
          "text": [
            "True\n",
            "False\n"
          ]
        }
      ],
      "source": [
        "print('hello world' in of_strings)\n",
        "print('Hello World' in of_strings)"
      ]
    },
    {
      "cell_type": "code",
      "execution_count": null,
      "id": "d11111ce-82eb-4d98-a961-3806b3070130",
      "metadata": {
        "id": "d11111ce-82eb-4d98-a961-3806b3070130",
        "colab": {
          "base_uri": "https://localhost:8080/"
        },
        "outputId": "685ae05a-5a67-4cbe-89f9-0cbfe00bcb27"
      },
      "outputs": [
        {
          "output_type": "stream",
          "name": "stdout",
          "text": [
            "True\n"
          ]
        }
      ],
      "source": [
        "print(of_strings in array_dim)"
      ]
    },
    {
      "cell_type": "markdown",
      "id": "8a9debc1-cf77-4e5e-ae23-aca84568b56b",
      "metadata": {
        "id": "8a9debc1-cf77-4e5e-ae23-aca84568b56b"
      },
      "source": [
        "#### Changing arrays"
      ]
    },
    {
      "cell_type": "code",
      "source": [
        "ray = [1, 2, 3, 4, 5, 6, 7, 8, 9, 10]"
      ],
      "metadata": {
        "id": "2I2vjNPXmnGP"
      },
      "id": "2I2vjNPXmnGP",
      "execution_count": null,
      "outputs": []
    },
    {
      "cell_type": "code",
      "execution_count": null,
      "id": "c09fb492-17d6-4f17-98a7-d5a45926c2f5",
      "metadata": {
        "id": "c09fb492-17d6-4f17-98a7-d5a45926c2f5",
        "colab": {
          "base_uri": "https://localhost:8080/"
        },
        "outputId": "15fd2606-d160-4301-f65c-a663fc6cae2d"
      },
      "outputs": [
        {
          "output_type": "stream",
          "name": "stdout",
          "text": [
            "[1, 2, 3, 4, 5, 6, 7, 8, 9, 10]\n",
            "4\n"
          ]
        }
      ],
      "source": [
        "print(ray)\n",
        "print(ray.index(5))"
      ]
    },
    {
      "cell_type": "code",
      "execution_count": null,
      "id": "a230f3db-3970-47ec-8824-037d3e379d09",
      "metadata": {
        "id": "a230f3db-3970-47ec-8824-037d3e379d09",
        "colab": {
          "base_uri": "https://localhost:8080/"
        },
        "outputId": "a41bbc7f-878b-47c9-8873-6b2c4657b572"
      },
      "outputs": [
        {
          "output_type": "stream",
          "name": "stdout",
          "text": [
            "[1, 2, 3, 5, 6, 7, 8, 9, 10]\n"
          ]
        }
      ],
      "source": [
        "ray.remove(4)\n",
        "print(ray)"
      ]
    },
    {
      "cell_type": "code",
      "execution_count": null,
      "id": "e1ef3f88-5d28-4fba-b7b2-92e554286675",
      "metadata": {
        "id": "e1ef3f88-5d28-4fba-b7b2-92e554286675",
        "colab": {
          "base_uri": "https://localhost:8080/"
        },
        "outputId": "90b77084-b1f5-4d05-ea55-4568086d041f"
      },
      "outputs": [
        {
          "output_type": "stream",
          "name": "stdout",
          "text": [
            "[1, 2, 3, 5, 6, 7, 8, 9, 10, 4]\n"
          ]
        }
      ],
      "source": [
        "ray.append(4)\n",
        "print(ray)"
      ]
    },
    {
      "cell_type": "code",
      "execution_count": null,
      "id": "a8170d61-78a1-4be7-b8ed-5628bb106e55",
      "metadata": {
        "id": "a8170d61-78a1-4be7-b8ed-5628bb106e55",
        "colab": {
          "base_uri": "https://localhost:8080/"
        },
        "outputId": "7f14e7cb-cd91-4f28-88eb-d813d373e87a"
      },
      "outputs": [
        {
          "output_type": "execute_result",
          "data": {
            "text/plain": [
              "4"
            ]
          },
          "metadata": {},
          "execution_count": 33
        }
      ],
      "source": [
        "ray.pop(-1)"
      ]
    },
    {
      "cell_type": "code",
      "execution_count": null,
      "id": "6b43c121-8257-4da3-bc7a-abf10c8d37d9",
      "metadata": {
        "id": "6b43c121-8257-4da3-bc7a-abf10c8d37d9",
        "colab": {
          "base_uri": "https://localhost:8080/"
        },
        "outputId": "c2dce86d-ab92-41a4-ffe3-8bab7809d7d7"
      },
      "outputs": [
        {
          "output_type": "stream",
          "name": "stdout",
          "text": [
            "[1, 2, 3, 4, 5, 6, 7, 8, 9, 10]\n"
          ]
        }
      ],
      "source": [
        "ray.insert(3, 4)\n",
        "print(ray)"
      ]
    },
    {
      "cell_type": "code",
      "source": [
        "del ray[3]\n",
        "ray"
      ],
      "metadata": {
        "id": "fBJnQGc5nTSv",
        "colab": {
          "base_uri": "https://localhost:8080/"
        },
        "outputId": "ab0f8a2a-4f3d-4e23-b4e3-6ad33618cd86"
      },
      "id": "fBJnQGc5nTSv",
      "execution_count": null,
      "outputs": [
        {
          "output_type": "execute_result",
          "data": {
            "text/plain": [
              "[1, 2, 3, 5, 6, 7, 8, 9, 10]"
            ]
          },
          "metadata": {},
          "execution_count": 35
        }
      ]
    },
    {
      "cell_type": "code",
      "source": [
        "ray.insert(3,4)\n",
        "ray"
      ],
      "metadata": {
        "id": "WHNDZBE8nX20",
        "colab": {
          "base_uri": "https://localhost:8080/"
        },
        "outputId": "493be6fc-f48b-408c-e7e8-388ffb196066"
      },
      "id": "WHNDZBE8nX20",
      "execution_count": null,
      "outputs": [
        {
          "output_type": "execute_result",
          "data": {
            "text/plain": [
              "[1, 2, 3, 4, 5, 6, 7, 8, 9, 10]"
            ]
          },
          "metadata": {},
          "execution_count": 36
        }
      ]
    },
    {
      "cell_type": "code",
      "source": [
        "ray[3]=77\n",
        "ray"
      ],
      "metadata": {
        "id": "PlFvKFzFyMBl",
        "colab": {
          "base_uri": "https://localhost:8080/"
        },
        "outputId": "3bb33ee4-c5f5-43ff-9057-fd13486f0737"
      },
      "id": "PlFvKFzFyMBl",
      "execution_count": null,
      "outputs": [
        {
          "output_type": "execute_result",
          "data": {
            "text/plain": [
              "[1, 2, 3, 77, 5, 6, 7, 8, 9, 10]"
            ]
          },
          "metadata": {},
          "execution_count": 37
        }
      ]
    },
    {
      "cell_type": "code",
      "source": [
        "ray=[1,2,3,4,5]"
      ],
      "metadata": {
        "id": "a0_TftIObtqK"
      },
      "id": "a0_TftIObtqK",
      "execution_count": null,
      "outputs": []
    },
    {
      "cell_type": "code",
      "execution_count": null,
      "id": "2877a29e-a669-427d-9dc1-a5e93dd03bd5",
      "metadata": {
        "id": "2877a29e-a669-427d-9dc1-a5e93dd03bd5",
        "colab": {
          "base_uri": "https://localhost:8080/"
        },
        "outputId": "359e6552-7471-4d98-a22d-aeae1e3922d6"
      },
      "outputs": [
        {
          "output_type": "stream",
          "name": "stdout",
          "text": [
            "[1, 2, 3, 4, 5, 1, 2, 3, 4, 5]\n"
          ]
        }
      ],
      "source": [
        "ray = ray*2\n",
        "print(ray)"
      ]
    },
    {
      "cell_type": "markdown",
      "id": "1a46a9bc-b060-405e-b452-f65298207f0a",
      "metadata": {
        "tags": [],
        "id": "1a46a9bc-b060-405e-b452-f65298207f0a"
      },
      "source": [
        "## Text"
      ]
    },
    {
      "cell_type": "markdown",
      "id": "2f3aa818-15b8-4070-bf75-40aedebd6dad",
      "metadata": {
        "id": "2f3aa818-15b8-4070-bf75-40aedebd6dad"
      },
      "source": [
        "> ### Characters\n",
        "> - Technially Python does not have an explicit type char\n",
        "> - Are numbers\n",
        "> -Unicode character encodings\n",
        "\n",
        "> ### Strings\n",
        "> - Are an array of characters\n",
        "> - Can use **either** \" \" or ' '\n",
        "> - Formatted strings\n",
        "> - Multiline Strings"
      ]
    },
    {
      "cell_type": "code",
      "execution_count": null,
      "id": "d2c43d53-b250-4942-8d64-f11cd9e9edd3",
      "metadata": {
        "id": "d2c43d53-b250-4942-8d64-f11cd9e9edd3",
        "colab": {
          "base_uri": "https://localhost:8080/"
        },
        "outputId": "fe018a58-8504-4926-d213-378bc58be4d2"
      },
      "outputs": [
        {
          "output_type": "stream",
          "name": "stdout",
          "text": [
            "Hello World!\n",
            "Hello World!\n",
            "o\n"
          ]
        }
      ],
      "source": [
        "x = \"Hello World!\"\n",
        "y = 'Hello World!'\n",
        "print(x)\n",
        "print(y)\n",
        "print(x[4]) # is a character in other languages"
      ]
    },
    {
      "cell_type": "code",
      "source": [
        "requests = 5\n",
        "print(f\"The user requested this {requests} many times\\n\")"
      ],
      "metadata": {
        "id": "X3Q4x0EMqBEg",
        "colab": {
          "base_uri": "https://localhost:8080/"
        },
        "outputId": "a469df80-def2-4da6-a410-9c0b9cb155ff"
      },
      "id": "X3Q4x0EMqBEg",
      "execution_count": null,
      "outputs": [
        {
          "output_type": "stream",
          "name": "stdout",
          "text": [
            "The user requested this 5 many times\n",
            "\n"
          ]
        }
      ]
    },
    {
      "cell_type": "code",
      "source": [
        "block_quote = \"\"\"Lorem ipsum dolor sit amet, consectetur adipiscing elit, sed do eiusmod tempor incididunt ut labore et dolore magna aliqua.\n",
        "Urna condimentum mattis pellentesque id nibh tortor.\n",
        "Tortor consequat id porta nibh venenatis cras sed felis eget.\n",
        "Dictum non consectetur a erat nam at. \"\"\"\n",
        "\n",
        "print(block_quote)"
      ],
      "metadata": {
        "id": "QSfeXOAMqGA5",
        "colab": {
          "base_uri": "https://localhost:8080/"
        },
        "outputId": "20908049-0111-496e-e889-f2939d8a15ad"
      },
      "id": "QSfeXOAMqGA5",
      "execution_count": null,
      "outputs": [
        {
          "output_type": "stream",
          "name": "stdout",
          "text": [
            "Lorem ipsum dolor sit amet, consectetur adipiscing elit, sed do eiusmod tempor incididunt ut labore et dolore magna aliqua.\n",
            "Urna condimentum mattis pellentesque id nibh tortor.\n",
            "Tortor consequat id porta nibh venenatis cras sed felis eget.\n",
            "Dictum non consectetur a erat nam at. \n"
          ]
        }
      ]
    },
    {
      "cell_type": "markdown",
      "id": "d0fac261-5448-4abe-8680-8ec00ee9aca3",
      "metadata": {
        "id": "d0fac261-5448-4abe-8680-8ec00ee9aca3"
      },
      "source": [
        "#### Searching"
      ]
    },
    {
      "cell_type": "code",
      "execution_count": null,
      "id": "bbab7de4-b0b1-4654-9052-561ec118dbab",
      "metadata": {
        "id": "bbab7de4-b0b1-4654-9052-561ec118dbab",
        "colab": {
          "base_uri": "https://localhost:8080/"
        },
        "outputId": "dd8735c4-990d-46b9-c67c-f75e2068b4e5"
      },
      "outputs": [
        {
          "output_type": "stream",
          "name": "stdout",
          "text": [
            "False\n",
            "True\n"
          ]
        }
      ],
      "source": [
        "print('world' in x)\n",
        "print('World' in x)"
      ]
    },
    {
      "cell_type": "markdown",
      "id": "cc8e5cf6-0662-4036-8a68-99462b43cd72",
      "metadata": {
        "tags": [],
        "id": "cc8e5cf6-0662-4036-8a68-99462b43cd72"
      },
      "source": [
        "#### Processing"
      ]
    },
    {
      "cell_type": "code",
      "execution_count": null,
      "id": "af627103-1868-4666-b638-34663e736ec8",
      "metadata": {
        "id": "af627103-1868-4666-b638-34663e736ec8",
        "colab": {
          "base_uri": "https://localhost:8080/"
        },
        "outputId": "9c50ec00-a1b0-4376-f24d-be23adbf6243"
      },
      "outputs": [
        {
          "output_type": "stream",
          "name": "stdout",
          "text": [
            "Lorem ipsum dolor sit amet, consectetur adipiscing elit, sed do eiusmod tempor incididunt ut labore et dolore magna aliqua.\n",
            "Urna condimentum mattis pellentesque id nibh tortor.\n",
            "Tortor consequat id porta nibh venenatis cras sed felis eget.\n",
            "Dictum non consectetur a erat nam at. \n",
            "\n",
            "\n",
            "Loremipsumdolorsitamet,consecteturadipiscingelit,seddoeiusmodtemporincididuntutlaboreetdoloremagnaaliqua.\n",
            "Urnacondimentummattispellentesqueidnibhtortor.\n",
            "Tortorconsequatidportanibhvenenatiscrassedfeliseget.\n",
            "Dictumnonconsecteturaeratnamat. \n",
            "\n",
            "\n",
            "['Lorem', 'ipsum', 'dolor', 'sit', 'amet,', 'consectetur', 'adipiscing', 'elit,', 'sed', 'do', 'eiusmod', 'tempor', 'incididunt', 'ut', 'labore', 'et', 'dolore', 'magna', 'aliqua.\\nUrna', 'condimentum', 'mattis', 'pellentesque', 'id', 'nibh', 'tortor.\\nTortor', 'consequat', 'id', 'porta', 'nibh', 'venenatis', 'cras', 'sed', 'felis', 'eget.\\nDictum', 'non', 'consectetur', 'a', 'erat', 'nam', 'at.', '']\n"
          ]
        }
      ],
      "source": [
        "bq_stripped = block_quote.strip()\n",
        "print(bq_stripped, \"\\n\\n\")\n",
        "\n",
        "bq_rem = block_quote.replace(\" \", \"\")\n",
        "print(bq_rem, \"\\n\\n\")\n",
        "\n",
        "bq_split = block_quote.split(\" \")\n",
        "print(bq_split)"
      ]
    },
    {
      "cell_type": "markdown",
      "id": "1a60fcd9-6dc4-48cf-b536-4fb731a3cde9",
      "metadata": {
        "id": "1a60fcd9-6dc4-48cf-b536-4fb731a3cde9"
      },
      "source": [
        "#### Concatenating\n"
      ]
    },
    {
      "cell_type": "code",
      "execution_count": null,
      "id": "1c4cfc2c-bacd-448e-ae5f-e66efcfdacb6",
      "metadata": {
        "id": "1c4cfc2c-bacd-448e-ae5f-e66efcfdacb6",
        "colab": {
          "base_uri": "https://localhost:8080/"
        },
        "outputId": "f4a18b96-4ce6-43d7-9afe-2e1d02b2e41d"
      },
      "outputs": [
        {
          "output_type": "stream",
          "name": "stdout",
          "text": [
            "Tortor consequat id porta nibh venenatis cras sed felis eget. Dictum non consectetur a erat nam at.\n",
            "\n",
            " Tortor consequat id porta nibh venenatis cras sed felis eget.  \n",
            " Dictum non consectetur a erat nam at.\n"
          ]
        }
      ],
      "source": [
        "x = 'Tortor consequat id porta nibh venenatis cras sed felis eget. '\n",
        "y = \"Dictum non consectetur a erat nam at.\"\n",
        "\n",
        "z = x+y\n",
        "print(z)\n",
        "print(\"\\n\", x, \"\\n\", y)"
      ]
    },
    {
      "cell_type": "markdown",
      "id": "462d8f5b-be4e-4d73-8558-8aa8c6850b12",
      "metadata": {
        "tags": [],
        "id": "462d8f5b-be4e-4d73-8558-8aa8c6850b12"
      },
      "source": [
        "## Tuples\n",
        "- Ordered\n",
        "- Immutable\n",
        "- Type Flexible\n",
        "- Allow Duplicates"
      ]
    },
    {
      "cell_type": "code",
      "execution_count": null,
      "id": "624833d9-27c9-4183-a052-18aaa75a5aa1",
      "metadata": {
        "id": "624833d9-27c9-4183-a052-18aaa75a5aa1",
        "colab": {
          "base_uri": "https://localhost:8080/"
        },
        "outputId": "e771b847-3cba-468b-f908-92711ad78e65"
      },
      "outputs": [
        {
          "output_type": "stream",
          "name": "stdout",
          "text": [
            "('red', 'pink', 'blue', 'yellow', 'yellow')\n"
          ]
        }
      ],
      "source": [
        "tup = ('red', 'pink', 'blue', 'yellow', 'yellow')\n",
        "print(tup)\n",
        "x = tup[0]"
      ]
    },
    {
      "cell_type": "markdown",
      "id": "5f86c7d9-6c88-4f8f-b2d6-370f75e1f84a",
      "metadata": {
        "id": "5f86c7d9-6c88-4f8f-b2d6-370f75e1f84a"
      },
      "source": [
        "#### Packing and Unpacking"
      ]
    },
    {
      "cell_type": "code",
      "execution_count": null,
      "id": "ccde8d12-7755-4636-a518-2ff83291b5d5",
      "metadata": {
        "id": "ccde8d12-7755-4636-a518-2ff83291b5d5",
        "colab": {
          "base_uri": "https://localhost:8080/"
        },
        "outputId": "6e59484a-f0f6-47bd-a1f0-9d0c9404ee79"
      },
      "outputs": [
        {
          "output_type": "stream",
          "name": "stdout",
          "text": [
            "Astarion\n",
            "Gale\n",
            "Lae'zel\n",
            "Wyll\n"
          ]
        }
      ],
      "source": [
        "names = ( \"Astarion\", \"Gale\", \"Lae'zel\", \"Wyll\")\n",
        "(c1, c2, c3, c4) = names\n",
        "\n",
        "print(c1)\n",
        "print(c2)\n",
        "print(c3)\n",
        "print(c4)\n"
      ]
    },
    {
      "cell_type": "code",
      "source": [
        "names = ( \"Astarion\", \"Gale\", \"Lae'zel\", \"Wyll\")\n",
        "v1, v2, _, _ = names\n",
        "\n",
        "print(v1)\n",
        "print(v2)\n"
      ],
      "metadata": {
        "id": "DvolnGbDpLoM",
        "colab": {
          "base_uri": "https://localhost:8080/"
        },
        "outputId": "22b00587-6553-4085-fc2d-4d2d16425151"
      },
      "id": "DvolnGbDpLoM",
      "execution_count": null,
      "outputs": [
        {
          "output_type": "stream",
          "name": "stdout",
          "text": [
            "Astarion\n",
            "Gale\n"
          ]
        }
      ]
    },
    {
      "cell_type": "markdown",
      "id": "78b813ea-21f3-40f2-afe5-1ce09830e6ed",
      "metadata": {
        "tags": [],
        "id": "78b813ea-21f3-40f2-afe5-1ce09830e6ed"
      },
      "source": [
        "## Dictionaries\n",
        "- Maps Key-Value pairs\n",
        "- Visualize as a table\n",
        "- Type flexible\n",
        "- Mutable\n",
        "- No duplicate keys allowed"
      ]
    },
    {
      "cell_type": "code",
      "execution_count": null,
      "id": "a1583f4f-6d77-4a04-94d9-9027b197fbee",
      "metadata": {
        "id": "a1583f4f-6d77-4a04-94d9-9027b197fbee"
      },
      "outputs": [],
      "source": [
        "dict = {\n",
        "    \"RSVP\" : 'Répondez s’il vous plait',\n",
        "    'ASAP' : 'as soon as possible',\n",
        "    \"BBEG\" : 'big bad evil guy',\n",
        "    \"SMH\" : 'shaking my head',\n",
        "    'AWOL' : 'absent without leave',\n",
        "    'UFO' : 'unidentified flying object',\n",
        "    \"SCUBA\" : \"Self-contained underwater breathing apparatus\"\n",
        "}"
      ]
    },
    {
      "cell_type": "code",
      "execution_count": null,
      "id": "7ed8b348-e445-4c9f-b690-9cf57dc8b46c",
      "metadata": {
        "id": "7ed8b348-e445-4c9f-b690-9cf57dc8b46c",
        "colab": {
          "base_uri": "https://localhost:8080/"
        },
        "outputId": "9ac8bb94-d872-4447-aa12-2f8c8f2cc15e"
      },
      "outputs": [
        {
          "output_type": "stream",
          "name": "stdout",
          "text": [
            "{'RSVP': 'Répondez s’il vous plait', 'ASAP': 'as soon as possible', 'BBEG': 'big bad evil guy', 'SMH': 'shaking my head', 'AWOL': 'absent without leave', 'UFO': 'unidentified flying object', 'SCUBA': 'Self-contained underwater breathing apparatus'}\n"
          ]
        }
      ],
      "source": [
        "print(dict)"
      ]
    },
    {
      "cell_type": "code",
      "execution_count": null,
      "id": "5b613844-5abb-402c-bb84-9116c8a9cb57",
      "metadata": {
        "id": "5b613844-5abb-402c-bb84-9116c8a9cb57",
        "colab": {
          "base_uri": "https://localhost:8080/"
        },
        "outputId": "20a6d1de-fb2d-4a18-ad71-37533926d1a1"
      },
      "outputs": [
        {
          "output_type": "stream",
          "name": "stdout",
          "text": [
            "dict_keys(['RSVP', 'ASAP', 'BBEG', 'SMH', 'AWOL', 'UFO', 'SCUBA'])\n",
            "dict_values(['Répondez s’il vous plait', 'as soon as possible', 'big bad evil guy', 'shaking my head', 'absent without leave', 'unidentified flying object', 'Self-contained underwater breathing apparatus'])\n"
          ]
        }
      ],
      "source": [
        "k=dict.keys()\n",
        "v = dict.values()\n",
        "print(k)\n",
        "print(v)"
      ]
    },
    {
      "cell_type": "markdown",
      "id": "589d9385-a027-40fa-81b5-99cd9eb6a273",
      "metadata": {
        "id": "589d9385-a027-40fa-81b5-99cd9eb6a273"
      },
      "source": [
        "#### Changing"
      ]
    },
    {
      "cell_type": "code",
      "execution_count": null,
      "id": "4acb22df-0819-4b08-8928-e2a1885fbb4f",
      "metadata": {
        "id": "4acb22df-0819-4b08-8928-e2a1885fbb4f",
        "colab": {
          "base_uri": "https://localhost:8080/"
        },
        "outputId": "f0171a22-38b2-44fc-8b4d-a64ebdf5506d"
      },
      "outputs": [
        {
          "output_type": "stream",
          "name": "stdout",
          "text": [
            "dict_keys(['RSVP', 'ASAP', 'BBEG', 'SMH', 'AWOL', 'UFO', 'SCUBA', 'CAD'])\n",
            "dict_values(['Répondez s’il vous plait', 'as soon as possible', 'big bad evil guy', 'shaking my head', 'absent without leave', 'unidentified flying object', 'Self-contained underwater breathing apparatus', 'comupter aided design'])\n",
            "{'RSVP': 'Répondez s’il vous plait', 'ASAP': 'as soon as possible', 'BBEG': 'big bad evil guy', 'SMH': 'shaking my head', 'AWOL': 'absent without leave', 'UFO': 'unidentified flying object', 'SCUBA': 'Self-contained underwater breathing apparatus', 'CAD': 'comupter aided design'}\n"
          ]
        }
      ],
      "source": [
        "dict[\"CAD\"] = \"comupter aided design\"\n",
        "print(k)\n",
        "print(v)\n",
        "print(dict)"
      ]
    },
    {
      "cell_type": "code",
      "execution_count": null,
      "id": "418d1c73-b1e5-445a-b53c-c33a38c77a73",
      "metadata": {
        "id": "418d1c73-b1e5-445a-b53c-c33a38c77a73",
        "colab": {
          "base_uri": "https://localhost:8080/"
        },
        "outputId": "e7035af6-5b3e-453c-8a05-0c61a55a919d"
      },
      "outputs": [
        {
          "output_type": "stream",
          "name": "stdout",
          "text": [
            "shrimp must have\n"
          ]
        }
      ],
      "source": [
        "dict[\"SMH\"] = \"shrimp must have\"\n",
        "print(dict[\"SMH\"])"
      ]
    },
    {
      "cell_type": "code",
      "execution_count": null,
      "id": "50f4278f-9f3f-43e1-a4e3-282bdb3e55b1",
      "metadata": {
        "id": "50f4278f-9f3f-43e1-a4e3-282bdb3e55b1",
        "colab": {
          "base_uri": "https://localhost:8080/"
        },
        "outputId": "8e7ebc0e-9787-47fb-8789-6aabe94c2b6d"
      },
      "outputs": [
        {
          "output_type": "stream",
          "name": "stdout",
          "text": [
            "{'RSVP': 'Répondez s’il vous plait', 'ASAP': 'as soon as possible', 'BBEG': 'big bad evil guy', 'AWOL': 'absent without leave', 'UFO': 'unidentified flying object', 'SCUBA': 'Self-contained underwater breathing apparatus', 'CAD': 'comupter aided design'}\n"
          ]
        }
      ],
      "source": [
        "dict.pop(\"SMH\")\n",
        "print(dict)"
      ]
    },
    {
      "cell_type": "markdown",
      "id": "7f3b1d14-1835-497d-9a2d-ecc055c843c9",
      "metadata": {
        "tags": [],
        "id": "7f3b1d14-1835-497d-9a2d-ecc055c843c9"
      },
      "source": [
        "## Booleans\n",
        "> Only two choices: True or False\\\n",
        "> If you are doing discrete math you are using booleans"
      ]
    },
    {
      "cell_type": "code",
      "execution_count": null,
      "id": "ba3ec95c-9a40-40f2-8a25-9908b03f084c",
      "metadata": {
        "id": "ba3ec95c-9a40-40f2-8a25-9908b03f084c"
      },
      "outputs": [],
      "source": [
        "x= True\n",
        "y=False"
      ]
    },
    {
      "cell_type": "code",
      "source": [
        "True == 1"
      ],
      "metadata": {
        "id": "GR9qWwI0eSIv",
        "colab": {
          "base_uri": "https://localhost:8080/"
        },
        "outputId": "3163c71a-3484-4e4a-fdfa-73169c50f316"
      },
      "id": "GR9qWwI0eSIv",
      "execution_count": null,
      "outputs": [
        {
          "output_type": "execute_result",
          "data": {
            "text/plain": [
              "True"
            ]
          },
          "metadata": {},
          "execution_count": 56
        }
      ]
    },
    {
      "cell_type": "markdown",
      "id": "aa90aa46-5448-4ef4-93c2-30c723b34496",
      "metadata": {
        "id": "aa90aa46-5448-4ef4-93c2-30c723b34496"
      },
      "source": [
        "#### Logical Operators"
      ]
    },
    {
      "cell_type": "code",
      "execution_count": null,
      "id": "b4a51859-2baf-4db2-a3e3-20e1f0fa40e9",
      "metadata": {
        "id": "b4a51859-2baf-4db2-a3e3-20e1f0fa40e9",
        "colab": {
          "base_uri": "https://localhost:8080/"
        },
        "outputId": "b0890f95-9717-45e4-f65a-2232e42b3742"
      },
      "outputs": [
        {
          "output_type": "stream",
          "name": "stdout",
          "text": [
            "True False False\n"
          ]
        }
      ],
      "source": [
        "a = x or y\n",
        "b = x and y\n",
        "c = not x\n",
        "\n",
        "print(a, b, c)"
      ]
    },
    {
      "cell_type": "code",
      "execution_count": null,
      "id": "b3102e71-a661-4129-909d-a6feb1a5641e",
      "metadata": {
        "id": "b3102e71-a661-4129-909d-a6feb1a5641e",
        "colab": {
          "base_uri": "https://localhost:8080/"
        },
        "outputId": "c6a3b471-264f-459b-a313-f261cdf06a39"
      },
      "outputs": [
        {
          "output_type": "execute_result",
          "data": {
            "text/plain": [
              "False"
            ]
          },
          "metadata": {},
          "execution_count": 58
        }
      ],
      "source": [
        "y or not x and y"
      ]
    },
    {
      "cell_type": "code",
      "execution_count": null,
      "id": "9708c33e-0874-4518-a48b-65700486fe1d",
      "metadata": {
        "id": "9708c33e-0874-4518-a48b-65700486fe1d",
        "colab": {
          "base_uri": "https://localhost:8080/"
        },
        "outputId": "6797f5bf-0ff0-4690-c1eb-c1cbf72c9bc0"
      },
      "outputs": [
        {
          "output_type": "execute_result",
          "data": {
            "text/plain": [
              "True"
            ]
          },
          "metadata": {},
          "execution_count": 59
        }
      ],
      "source": [
        "y or not (x and y)"
      ]
    },
    {
      "cell_type": "markdown",
      "id": "abd4f56f-5f2b-4a8c-9e25-e0bcd9cb07dd",
      "metadata": {
        "id": "abd4f56f-5f2b-4a8c-9e25-e0bcd9cb07dd"
      },
      "source": [
        "#### Comparison Operators\n",
        "> - **==**\n",
        "> - **!=**\n",
        "> - **>**\n",
        "> - **<**\n",
        "> - **>=**\n",
        "> - **<=**"
      ]
    },
    {
      "cell_type": "markdown",
      "id": "2f3a69cd-462f-4603-81fd-55106bbe8dd8",
      "metadata": {
        "id": "2f3a69cd-462f-4603-81fd-55106bbe8dd8"
      },
      "source": [
        "#### Identity Operators\n",
        "Identity operators test whether the things being compared are the same object\n",
        "> - is\n",
        "> - is not"
      ]
    },
    {
      "cell_type": "code",
      "execution_count": null,
      "id": "95483199-a8b6-4608-ab3a-bfdd2afe2501",
      "metadata": {
        "id": "95483199-a8b6-4608-ab3a-bfdd2afe2501",
        "colab": {
          "base_uri": "https://localhost:8080/"
        },
        "outputId": "bb9aaf1e-b2f6-42d2-e649-9340f6d579d4"
      },
      "outputs": [
        {
          "output_type": "stream",
          "name": "stdout",
          "text": [
            "['one', 4, 'two']\n",
            "['one', 4, 'two']\n",
            "['one', 4, 'two']\n"
          ]
        }
      ],
      "source": [
        "ray1 = [\"one\", 4, \"two\"]\n",
        "ray2 = ray1.copy()\n",
        "ray3 = ray1\n",
        "\n",
        "print(ray1)\n",
        "print(ray2)\n",
        "print(ray3)"
      ]
    },
    {
      "cell_type": "code",
      "execution_count": null,
      "id": "11727861-fec9-4940-bf6e-769d00a9cbb8",
      "metadata": {
        "id": "11727861-fec9-4940-bf6e-769d00a9cbb8",
        "colab": {
          "base_uri": "https://localhost:8080/"
        },
        "outputId": "028ad102-a0c8-4d8d-e012-ae5336595cd1"
      },
      "outputs": [
        {
          "output_type": "execute_result",
          "data": {
            "text/plain": [
              "True"
            ]
          },
          "metadata": {},
          "execution_count": 61
        }
      ],
      "source": [
        "ray1 is ray3"
      ]
    },
    {
      "cell_type": "code",
      "execution_count": null,
      "id": "e945a59c-1b2c-425d-9719-d6d84ba23933",
      "metadata": {
        "id": "e945a59c-1b2c-425d-9719-d6d84ba23933",
        "colab": {
          "base_uri": "https://localhost:8080/"
        },
        "outputId": "7848c226-5703-4c98-93d6-c9830896c3a2"
      },
      "outputs": [
        {
          "output_type": "execute_result",
          "data": {
            "text/plain": [
              "False"
            ]
          },
          "metadata": {},
          "execution_count": 62
        }
      ],
      "source": [
        "ray1 is ray2"
      ]
    },
    {
      "cell_type": "markdown",
      "id": "63de938e-962e-444a-a400-986cf30832aa",
      "metadata": {
        "id": "63de938e-962e-444a-a400-986cf30832aa"
      },
      "source": [
        "#### Membership Operators"
      ]
    },
    {
      "cell_type": "code",
      "execution_count": null,
      "id": "a8aea68f-8753-4ffe-85b1-b47bdbd5452a",
      "metadata": {
        "id": "a8aea68f-8753-4ffe-85b1-b47bdbd5452a",
        "colab": {
          "base_uri": "https://localhost:8080/"
        },
        "outputId": "f9a82abe-e3f5-4609-fad2-b0582982f3af"
      },
      "outputs": [
        {
          "output_type": "execute_result",
          "data": {
            "text/plain": [
              "True"
            ]
          },
          "metadata": {},
          "execution_count": 63
        }
      ],
      "source": [
        "\"one\" in ray1"
      ]
    },
    {
      "cell_type": "code",
      "execution_count": null,
      "id": "458811e3-2c5a-49d1-bf18-a6ae475daae7",
      "metadata": {
        "id": "458811e3-2c5a-49d1-bf18-a6ae475daae7",
        "colab": {
          "base_uri": "https://localhost:8080/"
        },
        "outputId": "ee99852d-6ef3-4e87-e5c9-2de7fb67ef84"
      },
      "outputs": [
        {
          "output_type": "execute_result",
          "data": {
            "text/plain": [
              "False"
            ]
          },
          "metadata": {},
          "execution_count": 64
        }
      ],
      "source": [
        "5 in ray1"
      ]
    },
    {
      "cell_type": "markdown",
      "source": [
        "#### Type Identification and Manipulation"
      ],
      "metadata": {
        "id": "_qexgSg_3XbQ"
      },
      "id": "_qexgSg_3XbQ"
    },
    {
      "cell_type": "markdown",
      "id": "3ea8a225-c27c-45fd-a072-8ef3fa6023c7",
      "metadata": {
        "tags": [],
        "id": "3ea8a225-c27c-45fd-a072-8ef3fa6023c7"
      },
      "source": [
        "## Loops\n",
        "> - ### For\n",
        "> - ### While"
      ]
    },
    {
      "cell_type": "code",
      "execution_count": null,
      "id": "397349d4-1922-4d8b-9a1c-3245a0a7f233",
      "metadata": {
        "id": "397349d4-1922-4d8b-9a1c-3245a0a7f233",
        "colab": {
          "base_uri": "https://localhost:8080/"
        },
        "outputId": "bf649e5b-aee7-426f-9a55-cb2e44c9b9fa"
      },
      "outputs": [
        {
          "output_type": "stream",
          "name": "stdout",
          "text": [
            "0\n",
            "1\n",
            "2\n",
            "3\n",
            "4\n"
          ]
        }
      ],
      "source": [
        "for i in range(0,5):\n",
        "  print(i)\n"
      ]
    },
    {
      "cell_type": "code",
      "execution_count": null,
      "id": "eaaddbf4-3d32-4cd5-b73e-aa38762766b0",
      "metadata": {
        "id": "eaaddbf4-3d32-4cd5-b73e-aa38762766b0",
        "colab": {
          "base_uri": "https://localhost:8080/"
        },
        "outputId": "0d7dd704-bda6-44ae-f7ab-f35c806e10cf"
      },
      "outputs": [
        {
          "output_type": "stream",
          "name": "stdout",
          "text": [
            "5\n",
            "6\n",
            "1\n",
            "20\n",
            "64\n",
            "33\n",
            "85\n",
            "22\n",
            "27\n",
            "3\n"
          ]
        }
      ],
      "source": [
        "for x in of_ints:\n",
        "    print(x)"
      ]
    },
    {
      "cell_type": "code",
      "execution_count": null,
      "id": "d9b8afbc-9236-4f9b-80bb-b6c509bd0208",
      "metadata": {
        "id": "d9b8afbc-9236-4f9b-80bb-b6c509bd0208",
        "colab": {
          "base_uri": "https://localhost:8080/"
        },
        "outputId": "8aa08ff9-ebe4-488a-e041-41933bc9a077"
      },
      "outputs": [
        {
          "output_type": "stream",
          "name": "stdout",
          "text": [
            "RSVP: Répondez s’il vous plait\n",
            "ASAP: as soon as possible\n",
            "BBEG: big bad evil guy\n",
            "AWOL: absent without leave\n",
            "UFO: unidentified flying object\n",
            "SCUBA: Self-contained underwater breathing apparatus\n",
            "CAD: comupter aided design\n"
          ]
        }
      ],
      "source": [
        "for key in dict:\n",
        "    print(key + \": \"+ dict[key])"
      ]
    },
    {
      "cell_type": "code",
      "source": [
        "i=0;\n",
        "while(i<5):\n",
        "  print(of_ints[i]);\n",
        "  i+=1;"
      ],
      "metadata": {
        "id": "lv0sbyuer27c",
        "colab": {
          "base_uri": "https://localhost:8080/"
        },
        "outputId": "a060f2b6-7ac5-48a4-8e16-7dc549987fac"
      },
      "id": "lv0sbyuer27c",
      "execution_count": null,
      "outputs": [
        {
          "output_type": "stream",
          "name": "stdout",
          "text": [
            "5\n",
            "6\n",
            "1\n",
            "20\n",
            "64\n"
          ]
        }
      ]
    },
    {
      "cell_type": "markdown",
      "id": "42c92599-9282-4a4d-85bf-d3909aa26537",
      "metadata": {
        "tags": [],
        "id": "42c92599-9282-4a4d-85bf-d3909aa26537"
      },
      "source": [
        "## Functions"
      ]
    },
    {
      "cell_type": "code",
      "execution_count": null,
      "id": "45579499-e5d9-4c7f-8a02-caec3b6d2db0",
      "metadata": {
        "id": "45579499-e5d9-4c7f-8a02-caec3b6d2db0"
      },
      "outputs": [],
      "source": [
        "def randfunction(dictionary, entry, x, y):\n",
        "  \"\"\" RandFunction: adds a key-value pair into a dictionary\n",
        "  parameters: dictionary-dictionary containing acronyms\n",
        "  entry-new entry into the dictionary\n",
        "  x: integer for condition\n",
        "  y: integer for condition\"\"\"\n",
        "  if x > y:\n",
        "    dictionary[entry[0]]= entry[1]\n",
        "\n",
        "  return \"completed\""
      ]
    },
    {
      "cell_type": "code",
      "execution_count": null,
      "id": "415bfe62-0bbb-4300-8e4f-a1068670e54a",
      "metadata": {
        "id": "415bfe62-0bbb-4300-8e4f-a1068670e54a"
      },
      "outputs": [],
      "source": [
        "x = randfunction(dict, (\"STEM\", \"science, technology, engineering, and math\"), 2, 5)"
      ]
    },
    {
      "cell_type": "code",
      "execution_count": null,
      "id": "3224d488-004f-4b5b-89a8-bc9751dabcae",
      "metadata": {
        "id": "3224d488-004f-4b5b-89a8-bc9751dabcae",
        "colab": {
          "base_uri": "https://localhost:8080/"
        },
        "outputId": "7d1b2472-5f12-4c01-9bfb-ed57549fc098"
      },
      "outputs": [
        {
          "output_type": "execute_result",
          "data": {
            "text/plain": [
              "{'RSVP': 'Répondez s’il vous plait',\n",
              " 'ASAP': 'as soon as possible',\n",
              " 'BBEG': 'big bad evil guy',\n",
              " 'AWOL': 'absent without leave',\n",
              " 'UFO': 'unidentified flying object',\n",
              " 'SCUBA': 'Self-contained underwater breathing apparatus',\n",
              " 'CAD': 'comupter aided design'}"
            ]
          },
          "metadata": {},
          "execution_count": 72
        }
      ],
      "source": [
        "dict"
      ]
    },
    {
      "cell_type": "code",
      "source": [
        "print(x)"
      ],
      "metadata": {
        "id": "5L7p7SaJ3ERn",
        "colab": {
          "base_uri": "https://localhost:8080/"
        },
        "outputId": "183069b9-8519-430e-ecb5-a2f3b442729e"
      },
      "id": "5L7p7SaJ3ERn",
      "execution_count": null,
      "outputs": [
        {
          "output_type": "stream",
          "name": "stdout",
          "text": [
            "completed\n"
          ]
        }
      ]
    },
    {
      "cell_type": "markdown",
      "id": "ad380d9e-0f7f-4609-92f5-cec195cc8262",
      "metadata": {
        "tags": [],
        "id": "ad380d9e-0f7f-4609-92f5-cec195cc8262"
      },
      "source": [
        "### Variable Scope\n",
        "> Variables declared outside a function are always global\\\n",
        "> Variables declared inside a function can be denoted as global with the global keyword\\\n",
        "> If you are changing a global variable inside a function invoke global"
      ]
    },
    {
      "cell_type": "code",
      "execution_count": null,
      "id": "4fa2e122-5efc-4d7d-8c55-7340bc4e356e",
      "metadata": {
        "id": "4fa2e122-5efc-4d7d-8c55-7340bc4e356e"
      },
      "outputs": [],
      "source": [
        "x=2\n",
        "def randfunction2(entry, x, y):\n",
        "    print(x)\n",
        "    global dictionary\n",
        "    dictionary = {}\n",
        "    if x > y:\n",
        "        dictionary[entry[0]]= entry[1]"
      ]
    },
    {
      "cell_type": "code",
      "execution_count": null,
      "id": "98da194e-0358-4b51-97ae-3699712960b5",
      "metadata": {
        "id": "98da194e-0358-4b51-97ae-3699712960b5",
        "colab": {
          "base_uri": "https://localhost:8080/"
        },
        "outputId": "20401855-714f-453b-8b8e-2a5e5bd08466"
      },
      "outputs": [
        {
          "output_type": "stream",
          "name": "stdout",
          "text": [
            "7\n"
          ]
        }
      ],
      "source": [
        "randfunction2((\"EDA\", \"exploratory data analysis\"), 7,5)"
      ]
    },
    {
      "cell_type": "code",
      "execution_count": null,
      "id": "cc5ebef4-826a-4bbf-9506-86b3cb68c1ec",
      "metadata": {
        "id": "cc5ebef4-826a-4bbf-9506-86b3cb68c1ec",
        "colab": {
          "base_uri": "https://localhost:8080/"
        },
        "outputId": "713282bf-c461-486b-b436-5ed05911978f"
      },
      "outputs": [
        {
          "output_type": "execute_result",
          "data": {
            "text/plain": [
              "{'EDA': 'exploratory data analysis'}"
            ]
          },
          "metadata": {},
          "execution_count": 76
        }
      ],
      "source": [
        "dictionary"
      ]
    },
    {
      "cell_type": "markdown",
      "source": [
        "# Numpy\n",
        "References: https://numpy.org/devdocs/user/absolute_beginners.html"
      ],
      "metadata": {
        "id": "nwMNoZPXu1pf"
      },
      "id": "nwMNoZPXu1pf"
    },
    {
      "cell_type": "code",
      "source": [
        "import numpy as np"
      ],
      "metadata": {
        "id": "Hf9bRDQWvS8_"
      },
      "id": "Hf9bRDQWvS8_",
      "execution_count": null,
      "outputs": []
    },
    {
      "cell_type": "code",
      "source": [
        "np_array = np.random.randint(100, size=(4,3))"
      ],
      "metadata": {
        "id": "bhot4Yiqvwd3"
      },
      "id": "bhot4Yiqvwd3",
      "execution_count": null,
      "outputs": []
    },
    {
      "cell_type": "code",
      "source": [
        "type(np_array)"
      ],
      "metadata": {
        "id": "_gUqJT4R4fp7",
        "colab": {
          "base_uri": "https://localhost:8080/"
        },
        "outputId": "ce7b7cb7-1657-4fe1-84fd-b44076405800"
      },
      "id": "_gUqJT4R4fp7",
      "execution_count": null,
      "outputs": [
        {
          "output_type": "execute_result",
          "data": {
            "text/plain": [
              "numpy.ndarray"
            ]
          },
          "metadata": {},
          "execution_count": 79
        }
      ]
    },
    {
      "cell_type": "code",
      "source": [
        "np_array"
      ],
      "metadata": {
        "id": "YFFQyyVmwTQJ",
        "colab": {
          "base_uri": "https://localhost:8080/"
        },
        "outputId": "35ab9bf8-2ab8-4b75-c8e1-f04c950cd39e"
      },
      "id": "YFFQyyVmwTQJ",
      "execution_count": null,
      "outputs": [
        {
          "output_type": "execute_result",
          "data": {
            "text/plain": [
              "array([[98, 94, 55],\n",
              "       [42, 11, 64],\n",
              "       [65, 29, 29],\n",
              "       [ 8, 86, 89]])"
            ]
          },
          "metadata": {},
          "execution_count": 80
        }
      ]
    },
    {
      "cell_type": "code",
      "source": [
        "np_array.size"
      ],
      "metadata": {
        "id": "MHEgSCLWwNuN",
        "colab": {
          "base_uri": "https://localhost:8080/"
        },
        "outputId": "3e4952c3-dc25-4557-827f-5335c1db3e72"
      },
      "id": "MHEgSCLWwNuN",
      "execution_count": null,
      "outputs": [
        {
          "output_type": "execute_result",
          "data": {
            "text/plain": [
              "12"
            ]
          },
          "metadata": {},
          "execution_count": 81
        }
      ]
    },
    {
      "cell_type": "code",
      "source": [
        "np_array.shape"
      ],
      "metadata": {
        "id": "ibWpJVEehvkn",
        "colab": {
          "base_uri": "https://localhost:8080/"
        },
        "outputId": "f79fb945-d50f-44e6-9c1c-27499f2598b3"
      },
      "id": "ibWpJVEehvkn",
      "execution_count": null,
      "outputs": [
        {
          "output_type": "execute_result",
          "data": {
            "text/plain": [
              "(4, 3)"
            ]
          },
          "metadata": {},
          "execution_count": 82
        }
      ]
    },
    {
      "cell_type": "markdown",
      "source": [
        "So what's the difference between a python arraylist and a numpy array?\n",
        "\n",
        "\n",
        "*   All elements must be the same type\n",
        "*   Total size of the array is immutable\n",
        "* Each row must have the same number of colunmns\n",
        "* Slicing does not return a copy but returns a view which is linked to the original object in memory\n",
        "\n"
      ],
      "metadata": {
        "id": "nMeoSpvvxtR_"
      },
      "id": "nMeoSpvvxtR_"
    },
    {
      "cell_type": "code",
      "source": [
        "ray = [1,2,3,4,5,6,7,8,9,10]\n",
        "nray = np.array(ray)"
      ],
      "metadata": {
        "id": "ud8OlZltyGy3"
      },
      "id": "ud8OlZltyGy3",
      "execution_count": null,
      "outputs": []
    },
    {
      "cell_type": "code",
      "source": [
        "nray"
      ],
      "metadata": {
        "id": "uOzFLyb7yS5-",
        "colab": {
          "base_uri": "https://localhost:8080/"
        },
        "outputId": "ebc6cacd-eb3b-4477-ed89-8a73c612b827"
      },
      "id": "uOzFLyb7yS5-",
      "execution_count": null,
      "outputs": [
        {
          "output_type": "execute_result",
          "data": {
            "text/plain": [
              "array([ 1,  2,  3,  4,  5,  6,  7,  8,  9, 10])"
            ]
          },
          "metadata": {},
          "execution_count": 85
        }
      ]
    },
    {
      "cell_type": "markdown",
      "source": [
        "The standard numpy array generators"
      ],
      "metadata": {
        "id": "cQ-uZm-E0cZx"
      },
      "id": "cQ-uZm-E0cZx"
    },
    {
      "cell_type": "code",
      "source": [
        "np.zeros(10)"
      ],
      "metadata": {
        "id": "pvQo_-v20goN",
        "colab": {
          "base_uri": "https://localhost:8080/"
        },
        "outputId": "9ecb1ba7-ef86-4476-e015-3cd2ac1ca684"
      },
      "id": "pvQo_-v20goN",
      "execution_count": null,
      "outputs": [
        {
          "output_type": "execute_result",
          "data": {
            "text/plain": [
              "array([0., 0., 0., 0., 0., 0., 0., 0., 0., 0.])"
            ]
          },
          "metadata": {},
          "execution_count": 86
        }
      ]
    },
    {
      "cell_type": "code",
      "source": [
        "np.ones(10)"
      ],
      "metadata": {
        "id": "y0FNAIDo0iog",
        "colab": {
          "base_uri": "https://localhost:8080/"
        },
        "outputId": "2372ac94-27e4-4706-b620-8f30039274d7"
      },
      "id": "y0FNAIDo0iog",
      "execution_count": null,
      "outputs": [
        {
          "output_type": "execute_result",
          "data": {
            "text/plain": [
              "array([1., 1., 1., 1., 1., 1., 1., 1., 1., 1.])"
            ]
          },
          "metadata": {},
          "execution_count": 87
        }
      ]
    },
    {
      "cell_type": "code",
      "source": [
        "np.empty(10)"
      ],
      "metadata": {
        "id": "2TabHogW0niE",
        "colab": {
          "base_uri": "https://localhost:8080/"
        },
        "outputId": "47b29db6-5c0f-477f-c118-d51eae662f39"
      },
      "id": "2TabHogW0niE",
      "execution_count": null,
      "outputs": [
        {
          "output_type": "execute_result",
          "data": {
            "text/plain": [
              "array([1., 1., 1., 1., 1., 1., 1., 1., 1., 1.])"
            ]
          },
          "metadata": {},
          "execution_count": 88
        }
      ]
    },
    {
      "cell_type": "code",
      "source": [
        "np.arange(10)"
      ],
      "metadata": {
        "id": "43sjWJAN04Xo",
        "colab": {
          "base_uri": "https://localhost:8080/"
        },
        "outputId": "7653826b-6a4b-4ec0-bb73-1786d2132eca"
      },
      "id": "43sjWJAN04Xo",
      "execution_count": null,
      "outputs": [
        {
          "output_type": "execute_result",
          "data": {
            "text/plain": [
              "array([0, 1, 2, 3, 4, 5, 6, 7, 8, 9])"
            ]
          },
          "metadata": {},
          "execution_count": 89
        }
      ]
    },
    {
      "cell_type": "code",
      "source": [
        "np.arange(4,10,2)"
      ],
      "metadata": {
        "id": "K65xYFca7Rc_",
        "colab": {
          "base_uri": "https://localhost:8080/"
        },
        "outputId": "4c68fa1a-d7d3-4172-9234-4627e476f8ba"
      },
      "id": "K65xYFca7Rc_",
      "execution_count": null,
      "outputs": [
        {
          "output_type": "execute_result",
          "data": {
            "text/plain": [
              "array([4, 6, 8])"
            ]
          },
          "metadata": {},
          "execution_count": 90
        }
      ]
    },
    {
      "cell_type": "code",
      "source": [
        "np.linspace(0, 10, 7)"
      ],
      "metadata": {
        "id": "Y_8RLvnq7i1F",
        "colab": {
          "base_uri": "https://localhost:8080/"
        },
        "outputId": "94c45791-df51-4616-91a7-bfa99c68e7ed"
      },
      "id": "Y_8RLvnq7i1F",
      "execution_count": null,
      "outputs": [
        {
          "output_type": "execute_result",
          "data": {
            "text/plain": [
              "array([ 0.        ,  1.66666667,  3.33333333,  5.        ,  6.66666667,\n",
              "        8.33333333, 10.        ])"
            ]
          },
          "metadata": {},
          "execution_count": 91
        }
      ]
    },
    {
      "cell_type": "code",
      "source": [
        "a = np.array([[1, 2, 3, 4], [5, 6, 7, 8]])\n",
        "b = np.array([[5, 6, 7, 8], [1, 2,3, 4]])"
      ],
      "metadata": {
        "id": "qqjIgW2k8Auj"
      },
      "id": "qqjIgW2k8Auj",
      "execution_count": null,
      "outputs": []
    },
    {
      "cell_type": "code",
      "source": [
        "c = np.concatenate((a,b), axis = 0)"
      ],
      "metadata": {
        "id": "_-cr_wTU7_rR"
      },
      "id": "_-cr_wTU7_rR",
      "execution_count": null,
      "outputs": []
    },
    {
      "cell_type": "code",
      "source": [
        "c"
      ],
      "metadata": {
        "id": "RdaEGEgs8GN0",
        "colab": {
          "base_uri": "https://localhost:8080/"
        },
        "outputId": "4a8ce54b-f556-453f-d3c9-afa0b0da8ca0"
      },
      "id": "RdaEGEgs8GN0",
      "execution_count": null,
      "outputs": [
        {
          "output_type": "execute_result",
          "data": {
            "text/plain": [
              "array([[1, 2, 3, 4],\n",
              "       [5, 6, 7, 8],\n",
              "       [5, 6, 7, 8],\n",
              "       [1, 2, 3, 4]])"
            ]
          },
          "metadata": {},
          "execution_count": 95
        }
      ]
    },
    {
      "cell_type": "code",
      "source": [
        "x = np.array([[1, 2], [3, 4]])\n",
        "y = np.array([[5, 6]])"
      ],
      "metadata": {
        "id": "A79EiKFV8Zno"
      },
      "id": "A79EiKFV8Zno",
      "execution_count": null,
      "outputs": []
    },
    {
      "cell_type": "code",
      "source": [
        "z = np.concatenate((y,x), axis=0)"
      ],
      "metadata": {
        "id": "vDFT8jMW8ciH"
      },
      "id": "vDFT8jMW8ciH",
      "execution_count": null,
      "outputs": []
    },
    {
      "cell_type": "code",
      "source": [
        "z"
      ],
      "metadata": {
        "id": "STrtCCZn8kKg",
        "colab": {
          "base_uri": "https://localhost:8080/"
        },
        "outputId": "48a7e865-07ce-4c3a-c590-d49214117703"
      },
      "id": "STrtCCZn8kKg",
      "execution_count": null,
      "outputs": [
        {
          "output_type": "execute_result",
          "data": {
            "text/plain": [
              "array([[5, 6],\n",
              "       [1, 2],\n",
              "       [3, 4]])"
            ]
          },
          "metadata": {},
          "execution_count": 98
        }
      ]
    },
    {
      "cell_type": "code",
      "source": [
        "new_ray = nray*z"
      ],
      "metadata": {
        "id": "f0dO-n5St82M",
        "colab": {
          "base_uri": "https://localhost:8080/",
          "height": 141
        },
        "outputId": "982f0546-b8af-418d-9a34-a9a477bb1b1c"
      },
      "id": "f0dO-n5St82M",
      "execution_count": null,
      "outputs": [
        {
          "output_type": "error",
          "ename": "ValueError",
          "evalue": "operands could not be broadcast together with shapes (10,) (3,2) ",
          "traceback": [
            "\u001b[0;31m---------------------------------------------------------------------------\u001b[0m",
            "\u001b[0;31mValueError\u001b[0m                                Traceback (most recent call last)",
            "\u001b[0;32m<ipython-input-99-735e44523155>\u001b[0m in \u001b[0;36m<cell line: 1>\u001b[0;34m()\u001b[0m\n\u001b[0;32m----> 1\u001b[0;31m \u001b[0mnew_ray\u001b[0m \u001b[0;34m=\u001b[0m \u001b[0mnray\u001b[0m\u001b[0;34m*\u001b[0m\u001b[0mz\u001b[0m\u001b[0;34m\u001b[0m\u001b[0;34m\u001b[0m\u001b[0m\n\u001b[0m",
            "\u001b[0;31mValueError\u001b[0m: operands could not be broadcast together with shapes (10,) (3,2) "
          ]
        }
      ]
    },
    {
      "cell_type": "markdown",
      "source": [
        "Reshaping arrays"
      ],
      "metadata": {
        "id": "WbwUF2Xu83HK"
      },
      "id": "WbwUF2Xu83HK"
    },
    {
      "cell_type": "code",
      "source": [
        "np_array"
      ],
      "metadata": {
        "id": "8ssP1Ryaiq2Y",
        "colab": {
          "base_uri": "https://localhost:8080/"
        },
        "outputId": "98b4b52d-c91a-4fa6-f89c-d714ed9a5abb"
      },
      "id": "8ssP1Ryaiq2Y",
      "execution_count": null,
      "outputs": [
        {
          "output_type": "execute_result",
          "data": {
            "text/plain": [
              "array([[98, 94, 55],\n",
              "       [42, 11, 64],\n",
              "       [65, 29, 29],\n",
              "       [ 8, 86, 89]])"
            ]
          },
          "metadata": {},
          "execution_count": 100
        }
      ]
    },
    {
      "cell_type": "code",
      "source": [
        "np_array.shape"
      ],
      "metadata": {
        "id": "8kxyo55E5olM",
        "colab": {
          "base_uri": "https://localhost:8080/"
        },
        "outputId": "9c38d68c-52c4-4f47-a387-50238a25714e"
      },
      "id": "8kxyo55E5olM",
      "execution_count": null,
      "outputs": [
        {
          "output_type": "execute_result",
          "data": {
            "text/plain": [
              "(4, 3)"
            ]
          },
          "metadata": {},
          "execution_count": 101
        }
      ]
    },
    {
      "cell_type": "code",
      "source": [
        "np_array = np_array.reshape((2,6))"
      ],
      "metadata": {
        "id": "duGf92Fc86m4"
      },
      "id": "duGf92Fc86m4",
      "execution_count": null,
      "outputs": []
    },
    {
      "cell_type": "code",
      "source": [
        "np_array"
      ],
      "metadata": {
        "id": "icuK9Kdzi5Qz",
        "colab": {
          "base_uri": "https://localhost:8080/"
        },
        "outputId": "e5e5ee98-c9bf-4b97-c635-9e7b07b4b88a"
      },
      "id": "icuK9Kdzi5Qz",
      "execution_count": null,
      "outputs": [
        {
          "output_type": "execute_result",
          "data": {
            "text/plain": [
              "array([[98, 94, 55, 42, 11, 64],\n",
              "       [65, 29, 29,  8, 86, 89]])"
            ]
          },
          "metadata": {},
          "execution_count": 103
        }
      ]
    },
    {
      "cell_type": "code",
      "source": [
        "np_array.T"
      ],
      "metadata": {
        "id": "8kXjsqKB-S-y",
        "colab": {
          "base_uri": "https://localhost:8080/"
        },
        "outputId": "13fc6e63-3240-427c-c82d-e0470673e862"
      },
      "id": "8kXjsqKB-S-y",
      "execution_count": null,
      "outputs": [
        {
          "output_type": "execute_result",
          "data": {
            "text/plain": [
              "array([[98, 65],\n",
              "       [94, 29],\n",
              "       [55, 29],\n",
              "       [42,  8],\n",
              "       [11, 86],\n",
              "       [64, 89]])"
            ]
          },
          "metadata": {},
          "execution_count": 104
        }
      ]
    },
    {
      "cell_type": "code",
      "source": [
        "np_array.flatten()"
      ],
      "metadata": {
        "id": "yLLfLYjj-XRg"
      },
      "id": "yLLfLYjj-XRg",
      "execution_count": null,
      "outputs": []
    },
    {
      "cell_type": "code",
      "source": [
        "np_array.reshape((1, 12))"
      ],
      "metadata": {
        "id": "HQ3UBddW-jT2"
      },
      "id": "HQ3UBddW-jT2",
      "execution_count": null,
      "outputs": []
    },
    {
      "cell_type": "markdown",
      "source": [
        "# Packages\n",
        "\n",
        "\n",
        "*   Scipy: https://pypi.org/project/scipy/\n",
        "    \n",
        "\n",
        "> SciPy (pronounced “Sigh Pie”) is an open-source software for mathematics, science, and engineering. It includes modules for statistics, optimization, integration, linear algebra, Fourier transforms, signal and image processing, ODE solvers, and more.\n",
        "\n",
        "\n",
        "*   Pingouin: https://pingouin-stats.org/build/html/index.html\n",
        "\n",
        "\n",
        "> Pingouin is an open-source statistical package written in Python 3 and based mostly on Pandas and NumPy. Some of its main features include: ANOVAs, Pairwise post-hocs tests and pairwise correlations, Robust, partial, distance and repeated measures correlations, Linear/logistic regression and mediation analysis, Bayes Factors, Multivariate tests, Reliability and consistency, Effect sizes and power analysis, Parametric/bootstrapped confidence intervals around an effect size or a correlation coefficient, Circular statistics, Chi-squared tests, Plotting: Bland-Altman plot, Q-Q plot, paired plot, robust correlation…\n",
        "\n",
        "\n",
        "* Sklearn: https://scikit-learn.org/stable/\n",
        "\n",
        "\n",
        "> Machine learning library with classification, regression, clustering algorithms as well as dimensionality reduction, model selection, and preprocessing.\n",
        "\n",
        "*Open3D: https://www.open3d.org/\n",
        "\n",
        "> Open3D is a open-source libray that supports 3D data. It features 3D data structures, 3D data processign algorithms, scene reconstruction, surface alignment, 3D visualizations, machine learning support, and GPU acceleation for core 3D operations.\n"
      ],
      "metadata": {
        "id": "L1z7IdIob7l_"
      },
      "id": "L1z7IdIob7l_"
    }
  ],
  "metadata": {
    "kernelspec": {
      "display_name": "Python 3 (ipykernel)",
      "language": "python",
      "name": "python3"
    },
    "language_info": {
      "codemirror_mode": {
        "name": "ipython",
        "version": 3
      },
      "file_extension": ".py",
      "mimetype": "text/x-python",
      "name": "python",
      "nbconvert_exporter": "python",
      "pygments_lexer": "ipython3",
      "version": "3.9.17"
    },
    "colab": {
      "provenance": []
    }
  },
  "nbformat": 4,
  "nbformat_minor": 5
}